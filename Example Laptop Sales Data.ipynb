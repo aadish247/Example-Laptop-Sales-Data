{
 "cells": [
  {
   "cell_type": "code",
   "execution_count": 1,
   "id": "31243795",
   "metadata": {},
   "outputs": [],
   "source": [
    "import pandas as pd"
   ]
  },
  {
   "cell_type": "code",
   "execution_count": 5,
   "id": "dfb97b37",
   "metadata": {},
   "outputs": [
    {
     "data": {
      "text/html": [
       "<div>\n",
       "<style scoped>\n",
       "    .dataframe tbody tr th:only-of-type {\n",
       "        vertical-align: middle;\n",
       "    }\n",
       "\n",
       "    .dataframe tbody tr th {\n",
       "        vertical-align: top;\n",
       "    }\n",
       "\n",
       "    .dataframe thead th {\n",
       "        text-align: right;\n",
       "    }\n",
       "</style>\n",
       "<table border=\"1\" class=\"dataframe\">\n",
       "  <thead>\n",
       "    <tr style=\"text-align: right;\">\n",
       "      <th></th>\n",
       "      <th>Configuration Index</th>\n",
       "      <th>RAM (GB)</th>\n",
       "      <th>Processor Speeds (GHz)</th>\n",
       "      <th>Integrated Wireless</th>\n",
       "      <th>HD Size (GB)</th>\n",
       "      <th>Bundled Applications</th>\n",
       "      <th>Retail Price</th>\n",
       "    </tr>\n",
       "  </thead>\n",
       "  <tbody>\n",
       "    <tr>\n",
       "      <th>0</th>\n",
       "      <td>290</td>\n",
       "      <td>1</td>\n",
       "      <td>1.5</td>\n",
       "      <td>Yes</td>\n",
       "      <td>40</td>\n",
       "      <td>No</td>\n",
       "      <td>287</td>\n",
       "    </tr>\n",
       "    <tr>\n",
       "      <th>1</th>\n",
       "      <td>208</td>\n",
       "      <td>2</td>\n",
       "      <td>1.5</td>\n",
       "      <td>No</td>\n",
       "      <td>300</td>\n",
       "      <td>No</td>\n",
       "      <td>329</td>\n",
       "    </tr>\n",
       "    <tr>\n",
       "      <th>2</th>\n",
       "      <td>292</td>\n",
       "      <td>1</td>\n",
       "      <td>1.5</td>\n",
       "      <td>Yes</td>\n",
       "      <td>80</td>\n",
       "      <td>No</td>\n",
       "      <td>315</td>\n",
       "    </tr>\n",
       "    <tr>\n",
       "      <th>3</th>\n",
       "      <td>342</td>\n",
       "      <td>2</td>\n",
       "      <td>1.5</td>\n",
       "      <td>Yes</td>\n",
       "      <td>120</td>\n",
       "      <td>No</td>\n",
       "      <td>357</td>\n",
       "    </tr>\n",
       "    <tr>\n",
       "      <th>4</th>\n",
       "      <td>304</td>\n",
       "      <td>1</td>\n",
       "      <td>1.5</td>\n",
       "      <td>No</td>\n",
       "      <td>300</td>\n",
       "      <td>No</td>\n",
       "      <td>357</td>\n",
       "    </tr>\n",
       "    <tr>\n",
       "      <th>5</th>\n",
       "      <td>347</td>\n",
       "      <td>2</td>\n",
       "      <td>1.5</td>\n",
       "      <td>No</td>\n",
       "      <td>80</td>\n",
       "      <td>Yes</td>\n",
       "      <td>364</td>\n",
       "    </tr>\n",
       "  </tbody>\n",
       "</table>\n",
       "</div>"
      ],
      "text/plain": [
       "   Configuration Index  RAM (GB)  Processor Speeds (GHz) Integrated Wireless  \\\n",
       "0                  290         1                     1.5                 Yes   \n",
       "1                  208         2                     1.5                  No   \n",
       "2                  292         1                     1.5                 Yes   \n",
       "3                  342         2                     1.5                 Yes   \n",
       "4                  304         1                     1.5                  No   \n",
       "5                  347         2                     1.5                  No   \n",
       "\n",
       "   HD Size (GB) Bundled Applications  Retail Price  \n",
       "0            40                   No           287  \n",
       "1           300                   No           329  \n",
       "2            80                   No           315  \n",
       "3           120                   No           357  \n",
       "4           300                   No           357  \n",
       "5            80                  Yes           364  "
      ]
     },
     "execution_count": 5,
     "metadata": {},
     "output_type": "execute_result"
    }
   ],
   "source": [
    "sales = pd.read_csv(r'C:/Users/aadis/Downloads/LaptopSales-1.csv')\n",
    "sales.head(6)"
   ]
  },
  {
   "cell_type": "code",
   "execution_count": 6,
   "id": "3fb8eb1e",
   "metadata": {},
   "outputs": [
    {
     "data": {
      "text/plain": [
       "Configuration Index         int64\n",
       "RAM (GB)                    int64\n",
       "Processor Speeds (GHz)    float64\n",
       "Integrated Wireless        object\n",
       "HD Size (GB)                int64\n",
       "Bundled Applications       object\n",
       "Retail Price                int64\n",
       "dtype: object"
      ]
     },
     "execution_count": 6,
     "metadata": {},
     "output_type": "execute_result"
    }
   ],
   "source": [
    "sales.dtypes"
   ]
  },
  {
   "cell_type": "code",
   "execution_count": 7,
   "id": "f4ba39a0",
   "metadata": {},
   "outputs": [
    {
     "data": {
      "text/html": [
       "<div>\n",
       "<style scoped>\n",
       "    .dataframe tbody tr th:only-of-type {\n",
       "        vertical-align: middle;\n",
       "    }\n",
       "\n",
       "    .dataframe tbody tr th {\n",
       "        vertical-align: top;\n",
       "    }\n",
       "\n",
       "    .dataframe thead th {\n",
       "        text-align: right;\n",
       "    }\n",
       "</style>\n",
       "<table border=\"1\" class=\"dataframe\">\n",
       "  <thead>\n",
       "    <tr style=\"text-align: right;\">\n",
       "      <th></th>\n",
       "      <th>Configuration Index</th>\n",
       "      <th>RAM (GB)</th>\n",
       "      <th>Processor Speeds (GHz)</th>\n",
       "      <th>HD Size (GB)</th>\n",
       "      <th>Retail Price</th>\n",
       "    </tr>\n",
       "  </thead>\n",
       "  <tbody>\n",
       "    <tr>\n",
       "      <th>count</th>\n",
       "      <td>25649.000000</td>\n",
       "      <td>25649.000000</td>\n",
       "      <td>25649.000000</td>\n",
       "      <td>25649.000000</td>\n",
       "      <td>25649.000000</td>\n",
       "    </tr>\n",
       "    <tr>\n",
       "      <th>mean</th>\n",
       "      <td>371.427424</td>\n",
       "      <td>2.194121</td>\n",
       "      <td>1.910168</td>\n",
       "      <td>131.352489</td>\n",
       "      <td>370.166595</td>\n",
       "    </tr>\n",
       "    <tr>\n",
       "      <th>std</th>\n",
       "      <td>225.426489</td>\n",
       "      <td>1.100078</td>\n",
       "      <td>0.410171</td>\n",
       "      <td>99.101622</td>\n",
       "      <td>68.489926</td>\n",
       "    </tr>\n",
       "    <tr>\n",
       "      <th>min</th>\n",
       "      <td>1.000000</td>\n",
       "      <td>1.000000</td>\n",
       "      <td>1.500000</td>\n",
       "      <td>40.000000</td>\n",
       "      <td>168.000000</td>\n",
       "    </tr>\n",
       "    <tr>\n",
       "      <th>25%</th>\n",
       "      <td>201.000000</td>\n",
       "      <td>1.000000</td>\n",
       "      <td>1.500000</td>\n",
       "      <td>40.000000</td>\n",
       "      <td>322.000000</td>\n",
       "    </tr>\n",
       "    <tr>\n",
       "      <th>50%</th>\n",
       "      <td>332.000000</td>\n",
       "      <td>2.000000</td>\n",
       "      <td>2.000000</td>\n",
       "      <td>80.000000</td>\n",
       "      <td>364.000000</td>\n",
       "    </tr>\n",
       "    <tr>\n",
       "      <th>75%</th>\n",
       "      <td>542.000000</td>\n",
       "      <td>2.000000</td>\n",
       "      <td>2.400000</td>\n",
       "      <td>120.000000</td>\n",
       "      <td>413.000000</td>\n",
       "    </tr>\n",
       "    <tr>\n",
       "      <th>max</th>\n",
       "      <td>864.000000</td>\n",
       "      <td>4.000000</td>\n",
       "      <td>2.400000</td>\n",
       "      <td>300.000000</td>\n",
       "      <td>623.000000</td>\n",
       "    </tr>\n",
       "  </tbody>\n",
       "</table>\n",
       "</div>"
      ],
      "text/plain": [
       "       Configuration Index      RAM (GB)  Processor Speeds (GHz)  \\\n",
       "count         25649.000000  25649.000000            25649.000000   \n",
       "mean            371.427424      2.194121                1.910168   \n",
       "std             225.426489      1.100078                0.410171   \n",
       "min               1.000000      1.000000                1.500000   \n",
       "25%             201.000000      1.000000                1.500000   \n",
       "50%             332.000000      2.000000                2.000000   \n",
       "75%             542.000000      2.000000                2.400000   \n",
       "max             864.000000      4.000000                2.400000   \n",
       "\n",
       "       HD Size (GB)  Retail Price  \n",
       "count  25649.000000  25649.000000  \n",
       "mean     131.352489    370.166595  \n",
       "std       99.101622     68.489926  \n",
       "min       40.000000    168.000000  \n",
       "25%       40.000000    322.000000  \n",
       "50%       80.000000    364.000000  \n",
       "75%      120.000000    413.000000  \n",
       "max      300.000000    623.000000  "
      ]
     },
     "execution_count": 7,
     "metadata": {},
     "output_type": "execute_result"
    }
   ],
   "source": [
    "sales.describe()"
   ]
  },
  {
   "cell_type": "code",
   "execution_count": 8,
   "id": "ea184e93",
   "metadata": {},
   "outputs": [
    {
     "data": {
      "text/plain": [
       "Configuration Index       False\n",
       "RAM (GB)                  False\n",
       "Processor Speeds (GHz)    False\n",
       "Integrated Wireless       False\n",
       "HD Size (GB)              False\n",
       "Bundled Applications      False\n",
       "Retail Price              False\n",
       "dtype: bool"
      ]
     },
     "execution_count": 8,
     "metadata": {},
     "output_type": "execute_result"
    }
   ],
   "source": [
    "sales.isnull().any()"
   ]
  },
  {
   "cell_type": "code",
   "execution_count": 9,
   "id": "26ba5411",
   "metadata": {},
   "outputs": [
    {
     "data": {
      "text/html": [
       "<div>\n",
       "<style scoped>\n",
       "    .dataframe tbody tr th:only-of-type {\n",
       "        vertical-align: middle;\n",
       "    }\n",
       "\n",
       "    .dataframe tbody tr th {\n",
       "        vertical-align: top;\n",
       "    }\n",
       "\n",
       "    .dataframe thead th {\n",
       "        text-align: right;\n",
       "    }\n",
       "</style>\n",
       "<table border=\"1\" class=\"dataframe\">\n",
       "  <thead>\n",
       "    <tr style=\"text-align: right;\">\n",
       "      <th></th>\n",
       "      <th>Configuration Index</th>\n",
       "      <th>RAM (GB)</th>\n",
       "      <th>Processor Speeds (GHz)</th>\n",
       "      <th>HD Size (GB)</th>\n",
       "      <th>Retail Price</th>\n",
       "    </tr>\n",
       "  </thead>\n",
       "  <tbody>\n",
       "    <tr>\n",
       "      <th>Configuration Index</th>\n",
       "      <td>1.000000</td>\n",
       "      <td>0.043779</td>\n",
       "      <td>0.042447</td>\n",
       "      <td>-0.103127</td>\n",
       "      <td>0.533884</td>\n",
       "    </tr>\n",
       "    <tr>\n",
       "      <th>RAM (GB)</th>\n",
       "      <td>0.043779</td>\n",
       "      <td>1.000000</td>\n",
       "      <td>-0.048288</td>\n",
       "      <td>-0.084440</td>\n",
       "      <td>0.516761</td>\n",
       "    </tr>\n",
       "    <tr>\n",
       "      <th>Processor Speeds (GHz)</th>\n",
       "      <td>0.042447</td>\n",
       "      <td>-0.048288</td>\n",
       "      <td>1.000000</td>\n",
       "      <td>-0.033960</td>\n",
       "      <td>0.204376</td>\n",
       "    </tr>\n",
       "    <tr>\n",
       "      <th>HD Size (GB)</th>\n",
       "      <td>-0.103127</td>\n",
       "      <td>-0.084440</td>\n",
       "      <td>-0.033960</td>\n",
       "      <td>1.000000</td>\n",
       "      <td>0.321109</td>\n",
       "    </tr>\n",
       "    <tr>\n",
       "      <th>Retail Price</th>\n",
       "      <td>0.533884</td>\n",
       "      <td>0.516761</td>\n",
       "      <td>0.204376</td>\n",
       "      <td>0.321109</td>\n",
       "      <td>1.000000</td>\n",
       "    </tr>\n",
       "  </tbody>\n",
       "</table>\n",
       "</div>"
      ],
      "text/plain": [
       "                        Configuration Index  RAM (GB)  Processor Speeds (GHz)  \\\n",
       "Configuration Index                1.000000  0.043779                0.042447   \n",
       "RAM (GB)                           0.043779  1.000000               -0.048288   \n",
       "Processor Speeds (GHz)             0.042447 -0.048288                1.000000   \n",
       "HD Size (GB)                      -0.103127 -0.084440               -0.033960   \n",
       "Retail Price                       0.533884  0.516761                0.204376   \n",
       "\n",
       "                        HD Size (GB)  Retail Price  \n",
       "Configuration Index        -0.103127      0.533884  \n",
       "RAM (GB)                   -0.084440      0.516761  \n",
       "Processor Speeds (GHz)     -0.033960      0.204376  \n",
       "HD Size (GB)                1.000000      0.321109  \n",
       "Retail Price                0.321109      1.000000  "
      ]
     },
     "execution_count": 9,
     "metadata": {},
     "output_type": "execute_result"
    }
   ],
   "source": [
    "corr = sales.corr()\n",
    "corr"
   ]
  },
  {
   "cell_type": "code",
   "execution_count": 10,
   "id": "1b55f804",
   "metadata": {},
   "outputs": [
    {
     "data": {
      "text/plain": [
       "Text(0.5, 1.0, 'Correlation Heatmap')"
      ]
     },
     "execution_count": 10,
     "metadata": {},
     "output_type": "execute_result"
    },
    {
     "data": {
      "image/png": "[encoded data removed]",
      "text/plain": [
       "<Figure size 1008x432 with 2 Axes>"
      ]
     },
     "metadata": {
      "needs_background": "light"
     },
     "output_type": "display_data"
    }
   ],
   "source": [
    "import seaborn as sns\n",
    "import matplotlib.pyplot as plt\n",
    "plt.figure(figsize=(14, 6))\n",
    "sns.heatmap(corr, annot = True,cmap = sns.diverging_palette(20, 220, n=200))\n",
    "plt.title('Correlation Heatmap')"
   ]
  },
  {
   "cell_type": "code",
   "execution_count": 11,
   "id": "1509eba1",
   "metadata": {},
   "outputs": [],
   "source": [
    "X = pd.get_dummies(sales[['Configuration Index','RAM (GB)', 'Processor Speeds (GHz)', 'Integrated Wireless',\n",
    " 'HD Size (GB)', 'Bundled Applications']], drop_first = True)\n",
    "y = sales[['Retail Price']]"
   ]
  },
  {
   "cell_type": "code",
   "execution_count": 12,
   "id": "10721c96",
   "metadata": {},
   "outputs": [
    {
     "data": {
      "text/html": [
       "<div>\n",
       "<style scoped>\n",
       "    .dataframe tbody tr th:only-of-type {\n",
       "        vertical-align: middle;\n",
       "    }\n",
       "\n",
       "    .dataframe tbody tr th {\n",
       "        vertical-align: top;\n",
       "    }\n",
       "\n",
       "    .dataframe thead th {\n",
       "        text-align: right;\n",
       "    }\n",
       "</style>\n",
       "<table border=\"1\" class=\"dataframe\">\n",
       "  <thead>\n",
       "    <tr style=\"text-align: right;\">\n",
       "      <th></th>\n",
       "      <th>Configuration Index</th>\n",
       "      <th>RAM (GB)</th>\n",
       "      <th>Processor Speeds (GHz)</th>\n",
       "      <th>HD Size (GB)</th>\n",
       "      <th>Integrated Wireless_Yes</th>\n",
       "      <th>Bundled Applications_Yes</th>\n",
       "    </tr>\n",
       "  </thead>\n",
       "  <tbody>\n",
       "    <tr>\n",
       "      <th>0</th>\n",
       "      <td>290</td>\n",
       "      <td>1</td>\n",
       "      <td>1.5</td>\n",
       "      <td>40</td>\n",
       "      <td>1</td>\n",
       "      <td>0</td>\n",
       "    </tr>\n",
       "    <tr>\n",
       "      <th>1</th>\n",
       "      <td>208</td>\n",
       "      <td>2</td>\n",
       "      <td>1.5</td>\n",
       "      <td>300</td>\n",
       "      <td>0</td>\n",
       "      <td>0</td>\n",
       "    </tr>\n",
       "    <tr>\n",
       "      <th>2</th>\n",
       "      <td>292</td>\n",
       "      <td>1</td>\n",
       "      <td>1.5</td>\n",
       "      <td>80</td>\n",
       "      <td>1</td>\n",
       "      <td>0</td>\n",
       "    </tr>\n",
       "    <tr>\n",
       "      <th>3</th>\n",
       "      <td>342</td>\n",
       "      <td>2</td>\n",
       "      <td>1.5</td>\n",
       "      <td>120</td>\n",
       "      <td>1</td>\n",
       "      <td>0</td>\n",
       "    </tr>\n",
       "    <tr>\n",
       "      <th>4</th>\n",
       "      <td>304</td>\n",
       "      <td>1</td>\n",
       "      <td>1.5</td>\n",
       "      <td>300</td>\n",
       "      <td>0</td>\n",
       "      <td>0</td>\n",
       "    </tr>\n",
       "    <tr>\n",
       "      <th>...</th>\n",
       "      <td>...</td>\n",
       "      <td>...</td>\n",
       "      <td>...</td>\n",
       "      <td>...</td>\n",
       "      <td>...</td>\n",
       "      <td>...</td>\n",
       "    </tr>\n",
       "    <tr>\n",
       "      <th>25644</th>\n",
       "      <td>479</td>\n",
       "      <td>1</td>\n",
       "      <td>2.4</td>\n",
       "      <td>300</td>\n",
       "      <td>0</td>\n",
       "      <td>1</td>\n",
       "    </tr>\n",
       "    <tr>\n",
       "      <th>25645</th>\n",
       "      <td>589</td>\n",
       "      <td>1</td>\n",
       "      <td>1.5</td>\n",
       "      <td>120</td>\n",
       "      <td>0</td>\n",
       "      <td>1</td>\n",
       "    </tr>\n",
       "    <tr>\n",
       "      <th>25646</th>\n",
       "      <td>731</td>\n",
       "      <td>1</td>\n",
       "      <td>1.5</td>\n",
       "      <td>80</td>\n",
       "      <td>0</td>\n",
       "      <td>1</td>\n",
       "    </tr>\n",
       "    <tr>\n",
       "      <th>25647</th>\n",
       "      <td>375</td>\n",
       "      <td>2</td>\n",
       "      <td>2.4</td>\n",
       "      <td>300</td>\n",
       "      <td>1</td>\n",
       "      <td>1</td>\n",
       "    </tr>\n",
       "    <tr>\n",
       "      <th>25648</th>\n",
       "      <td>101</td>\n",
       "      <td>4</td>\n",
       "      <td>1.5</td>\n",
       "      <td>120</td>\n",
       "      <td>1</td>\n",
       "      <td>1</td>\n",
       "    </tr>\n",
       "  </tbody>\n",
       "</table>\n",
       "<p>25649 rows × 6 columns</p>\n",
       "</div>"
      ],
      "text/plain": [
       "       Configuration Index  RAM (GB)  Processor Speeds (GHz)  HD Size (GB)  \\\n",
       "0                      290         1                     1.5            40   \n",
       "1                      208         2                     1.5           300   \n",
       "2                      292         1                     1.5            80   \n",
       "3                      342         2                     1.5           120   \n",
       "4                      304         1                     1.5           300   \n",
       "...                    ...       ...                     ...           ...   \n",
       "25644                  479         1                     2.4           300   \n",
       "25645                  589         1                     1.5           120   \n",
       "25646                  731         1                     1.5            80   \n",
       "25647                  375         2                     2.4           300   \n",
       "25648                  101         4                     1.5           120   \n",
       "\n",
       "       Integrated Wireless_Yes  Bundled Applications_Yes  \n",
       "0                            1                         0  \n",
       "1                            0                         0  \n",
       "2                            1                         0  \n",
       "3                            1                         0  \n",
       "4                            0                         0  \n",
       "...                        ...                       ...  \n",
       "25644                        0                         1  \n",
       "25645                        0                         1  \n",
       "25646                        0                         1  \n",
       "25647                        1                         1  \n",
       "25648                        1                         1  \n",
       "\n",
       "[25649 rows x 6 columns]"
      ]
     },
     "execution_count": 12,
     "metadata": {},
     "output_type": "execute_result"
    }
   ],
   "source": [
    "X"
   ]
  },
  {
   "cell_type": "code",
   "execution_count": 13,
   "id": "e67dd92d",
   "metadata": {},
   "outputs": [
    {
     "data": {
      "text/plain": [
       "(20519, 6)"
      ]
     },
     "execution_count": 13,
     "metadata": {},
     "output_type": "execute_result"
    }
   ],
   "source": [
    "from sklearn.model_selection import train_test_split\n",
    "X_train, X_test, y_train, y_test = train_test_split(X, y, test_size=0.2, random_state=0)\n",
    "X_train.shape"
   ]
  },
  {
   "cell_type": "code",
   "execution_count": 14,
   "id": "86460282",
   "metadata": {},
   "outputs": [
    {
     "data": {
      "text/html": [
       "<div>\n",
       "<style scoped>\n",
       "    .dataframe tbody tr th:only-of-type {\n",
       "        vertical-align: middle;\n",
       "    }\n",
       "\n",
       "    .dataframe tbody tr th {\n",
       "        vertical-align: top;\n",
       "    }\n",
       "\n",
       "    .dataframe thead th {\n",
       "        text-align: right;\n",
       "    }\n",
       "</style>\n",
       "<table border=\"1\" class=\"dataframe\">\n",
       "  <thead>\n",
       "    <tr style=\"text-align: right;\">\n",
       "      <th></th>\n",
       "      <th>Configuration Index</th>\n",
       "      <th>RAM (GB)</th>\n",
       "      <th>Processor Speeds (GHz)</th>\n",
       "      <th>HD Size (GB)</th>\n",
       "      <th>Integrated Wireless_Yes</th>\n",
       "      <th>Bundled Applications_Yes</th>\n",
       "    </tr>\n",
       "  </thead>\n",
       "  <tbody>\n",
       "    <tr>\n",
       "      <th>0</th>\n",
       "      <td>0.173125</td>\n",
       "      <td>34.974064</td>\n",
       "      <td>38.247655</td>\n",
       "      <td>0.304455</td>\n",
       "      <td>15.538897</td>\n",
       "      <td>35.992358</td>\n",
       "    </tr>\n",
       "  </tbody>\n",
       "</table>\n",
       "</div>"
      ],
      "text/plain": [
       "   Configuration Index   RAM (GB)  Processor Speeds (GHz)  HD Size (GB)  \\\n",
       "0             0.173125  34.974064               38.247655      0.304455   \n",
       "\n",
       "   Integrated Wireless_Yes  Bundled Applications_Yes  \n",
       "0                15.538897                 35.992358  "
      ]
     },
     "execution_count": 14,
     "metadata": {},
     "output_type": "execute_result"
    }
   ],
   "source": [
    "from sklearn.linear_model import LinearRegression\n",
    "sales_regressor = LinearRegression()\n",
    "sales_regressor.fit(X_train, y_train)\n",
    "coeff_df = pd.DataFrame(sales_regressor.coef_, columns= X.columns)\n",
    "coeff_df"
   ]
  },
  {
   "cell_type": "code",
   "execution_count": 15,
   "id": "0b9c4779",
   "metadata": {},
   "outputs": [
    {
     "name": "stdout",
     "output_type": "stream",
     "text": [
      "                            OLS Regression Results                            \n",
      "==============================================================================\n",
      "Dep. Variable:           Retail Price   R-squared:                       0.835\n",
      "Model:                            OLS   Adj. R-squared:                  0.835\n",
      "Method:                 Least Squares   F-statistic:                 1.731e+04\n",
      "Date:                Tue, 31 Jan 2023   Prob (F-statistic):               0.00\n",
      "Time:                        20:18:53   Log-Likelihood:                -97410.\n",
      "No. Observations:               20519   AIC:                         1.948e+05\n",
      "Df Residuals:                   20512   BIC:                         1.949e+05\n",
      "Df Model:                           6                                         \n",
      "Covariance Type:            nonrobust                                         \n",
      "============================================================================================\n",
      "                               coef    std err          t      P>|t|      [0.025      0.975]\n",
      "--------------------------------------------------------------------------------------------\n",
      "const                       90.6157      1.165     77.764      0.000      88.332      92.900\n",
      "Configuration Index          0.1731      0.001    198.550      0.000       0.171       0.175\n",
      "RAM (GB)                    34.9741      0.178    196.111      0.000      34.625      35.324\n",
      "Processor Speeds (GHz)      38.2477      0.476     80.324      0.000      37.314      39.181\n",
      "HD Size (GB)                 0.3045      0.002    152.900      0.000       0.301       0.308\n",
      "Integrated Wireless_Yes     15.5389      0.390     39.847      0.000      14.775      16.303\n",
      "Bundled Applications_Yes    35.9924      0.392     91.782      0.000      35.224      36.761\n",
      "==============================================================================\n",
      "Omnibus:                        7.211   Durbin-Watson:                   2.006\n",
      "Prob(Omnibus):                  0.027   Jarque-Bera (JB):                7.600\n",
      "Skew:                          -0.018   Prob(JB):                       0.0224\n",
      "Kurtosis:                       3.087   Cond. No.                     2.85e+03\n",
      "==============================================================================\n",
      "\n",
      "Notes:\n",
      "[1] Standard Errors assume that the covariance matrix of the errors is correctly specified.\n",
      "[2] The condition number is large, 2.85e+03. This might indicate that there are\n",
      "strong multicollinearity or other numerical problems.\n"
     ]
    }
   ],
   "source": [
    "import statsmodels.api as sm\n",
    "X_train2 = sm.add_constant(X_train)\n",
    "est = sm.OLS(y_train, X_train2)\n",
    "est2 = est.fit()\n",
    "print(est2.summary())"
   ]
  },
  {
   "cell_type": "code",
   "execution_count": 16,
   "id": "fcb8a8df",
   "metadata": {},
   "outputs": [],
   "source": [
    "y_train_pred = sales_regressor.predict(X_train)\n",
    "y_test_pred = sales_regressor.predict(X_test)"
   ]
  },
  {
   "cell_type": "code",
   "execution_count": 17,
   "id": "1f840186",
   "metadata": {},
   "outputs": [
    {
     "data": {
      "image/png": "[encoded data removed]",
      "text/plain": [
       "<Figure size 1080x576 with 1 Axes>"
      ]
     },
     "metadata": {
      "needs_background": "light"
     },
     "output_type": "display_data"
    }
   ],
   "source": [
    "plt.figure(figsize = (15,8))\n",
    "plt.scatter(y_train_pred, y_train_pred-y_train, c='steelblue', marker = 'o', label = \"Training data\")\n",
    "plt.scatter(y_test_pred, y_test_pred-y_test, color = 'limegreen', marker = 's',label='Test data')\n",
    "plt.xlabel(\"Predicted Values\")\n",
    "plt.ylabel(\"Residuals\")\n",
    "plt.legend(loc = 'upper right')\n",
    "plt.hlines(y = 0,xmin = 200, xmax = 700, color = 'black', lw =2)\n",
    "plt.show()"
   ]
  },
  {
   "cell_type": "code",
   "execution_count": 18,
   "id": "62fecd44",
   "metadata": {},
   "outputs": [
    {
     "name": "stdout",
     "output_type": "stream",
     "text": [
      "Mean Absolute Error on Test Data: 21.59110673795883\n",
      "Mean Absolute Error on Training Data: 21.76019884883132\n",
      "Mean Squared Error on Test Data: 768.2924424521239\n",
      "Mean Squared Error on Training Data: 777.9861978009388\n",
      "Root Mean Squared Error on Test Data: 27.71808872292828\n",
      "Root Mean Squared Error on Training Data: 27.8924039444602\n"
     ]
    }
   ],
   "source": [
    "from sklearn import metrics\n",
    "import numpy as np\n",
    "print('Mean Absolute Error on Test Data:', metrics.mean_absolute_error(y_test, y_test_pred))\n",
    "print('Mean Absolute Error on Training Data:', metrics.mean_absolute_error(y_train, y_train_pred))\n",
    "print('Mean Squared Error on Test Data:', metrics.mean_squared_error(y_test, y_test_pred))\n",
    "print('Mean Squared Error on Training Data:', metrics.mean_squared_error(y_train, y_train_pred))\n",
    "print('Root Mean Squared Error on Test Data:', np.sqrt(metrics.mean_squared_error(y_test, y_test_pred)))\n",
    "print('Root Mean Squared Error on Training Data:', np.sqrt(metrics.mean_squared_error(y_train, y_train_pred)))"
   ]
  },
  {
   "cell_type": "code",
   "execution_count": 19,
   "id": "7c7005bd",
   "metadata": {},
   "outputs": [
    {
     "name": "stdout",
     "output_type": "stream",
     "text": [
      "R squared on test set: 0.8323889325785556\n",
      "R squared on training set: 0.8350651328238885\n"
     ]
    }
   ],
   "source": [
    "from sklearn.metrics import r2_score\n",
    "r_sq_test = r2_score(y_test, y_test_pred)\n",
    "r_sq_train = r2_score(y_train, y_train_pred)\n",
    "print('R squared on test set:', r_sq_test)\n",
    "print('R squared on training set:', r_sq_train)"
   ]
  },
  {
   "cell_type": "code",
   "execution_count": null,
   "id": "43db518c",
   "metadata": {},
   "outputs": [],
   "source": []
  }
 ],
 "metadata": {
  "kernelspec": {
   "display_name": "Python 3 (ipykernel)",
   "language": "python",
   "name": "python3"
  },
  "language_info": {
   "codemirror_mode": {
    "name": "ipython",
    "version": 3
   },
   "file_extension": ".py",
   "mimetype": "text/x-python",
   "name": "python",
   "nbconvert_exporter": "python",
   "pygments_lexer": "ipython3",
   "version": "3.9.12"
  }
 },
 "nbformat": 4,
 "nbformat_minor": 5
}
